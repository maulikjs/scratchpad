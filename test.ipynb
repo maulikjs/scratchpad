{
 "cells": [
  {
   "cell_type": "code",
   "execution_count": 1,
   "metadata": {},
   "outputs": [
    {
     "data": {
      "text/plain": [
       "4999999950000000.0"
      ]
     },
     "execution_count": 1,
     "metadata": {},
     "output_type": "execute_result"
    }
   ],
   "source": [
    "import pyspark\n",
    "import os\n",
    "\n",
    "conf = pyspark.SparkConf()\n",
    "conf.setMaster(\"spark://%s:7077\" % os.environ[\"SPARK_CLUSTER\"])\n",
    "conf.setAppName(\"vpavlin-test\")\n",
    "sc = pyspark.SparkContext(conf=conf)\n",
    "\n",
    "# do something to prove it works\n",
    "\n",
    "rdd = sc.parallelize(range(100000000))\n",
    "rdd.sumApprox(3)\n",
    "\n"
   ]
  },
  {
   "cell_type": "code",
   "execution_count": 2,
   "metadata": {},
   "outputs": [
    {
     "name": "stdout",
     "output_type": "stream",
     "text": [
      "hello\n"
     ]
    }
   ],
   "source": [
    "print(\"hello\")"
   ]
  },
  {
   "cell_type": "code",
   "execution_count": 3,
   "metadata": {},
   "outputs": [],
   "source": [
    "sc.stop()"
   ]
  },
  {
   "cell_type": "code",
   "execution_count": 4,
   "metadata": {},
   "outputs": [
    {
     "data": {
      "text/plain": [
       "{'ResponseMetadata': {'RequestId': 'tx000000000000000000001-005c449848-104c-default',\n",
       "  'HostId': '',\n",
       "  'HTTPStatusCode': 200,\n",
       "  'HTTPHeaders': {'transfer-encoding': 'chunked',\n",
       "   'x-amz-request-id': 'tx000000000000000000001-005c449848-104c-default',\n",
       "   'content-type': 'application/xml',\n",
       "   'date': 'Sun, 20 Jan 2019 15:48:24 GMT'},\n",
       "  'RetryAttempts': 0},\n",
       " 'Buckets': [],\n",
       " 'Owner': {'DisplayName': 'Ceph demo user', 'ID': 'nano'}}"
      ]
     },
     "execution_count": 4,
     "metadata": {},
     "output_type": "execute_result"
    }
   ],
   "source": [
    "import boto3\n",
    "import os\n",
    "\n",
    "\n",
    "conn = boto3.client(service_name='s3', \n",
    "                    endpoint_url='http://%s:%s' % (os.environ['CEPH_SERVICE_HOST'], os.environ['CEPH_SERVICE_PORT']))\n",
    "\n",
    "conn.list_buckets()"
   ]
  },
  {
   "cell_type": "code",
   "execution_count": 5,
   "metadata": {},
   "outputs": [
    {
     "data": {
      "text/plain": [
       "{'ResponseMetadata': {'RequestId': 'tx000000000000000000002-005c449849-104c-default',\n",
       "  'HostId': '',\n",
       "  'HTTPStatusCode': 200,\n",
       "  'HTTPHeaders': {'x-amz-request-id': 'tx000000000000000000002-005c449849-104c-default',\n",
       "   'content-length': '0',\n",
       "   'date': 'Sun, 20 Jan 2019 15:48:26 GMT'},\n",
       "  'RetryAttempts': 0}}"
      ]
     },
     "execution_count": 5,
     "metadata": {},
     "output_type": "execute_result"
    }
   ],
   "source": [
    "conn.create_bucket(Bucket=\"TEST\")"
   ]
  },
  {
   "cell_type": "code",
   "execution_count": 10,
   "metadata": {},
   "outputs": [],
   "source": [
    "conn.upload_file(Bucket=\"TEST\", Key=\"odh-core-test.ipynb\", Filename=\"odh-core-test.ipynb\")"
   ]
  },
  {
   "cell_type": "code",
   "execution_count": 11,
   "metadata": {},
   "outputs": [
    {
     "data": {
      "text/plain": [
       "{'ResponseMetadata': {'RequestId': 'tx000000000000000000006-005c4498c1-104c-default',\n",
       "  'HostId': '',\n",
       "  'HTTPStatusCode': 200,\n",
       "  'HTTPHeaders': {'transfer-encoding': 'chunked',\n",
       "   'x-amz-request-id': 'tx000000000000000000006-005c4498c1-104c-default',\n",
       "   'content-type': 'application/xml',\n",
       "   'date': 'Sun, 20 Jan 2019 15:50:25 GMT'},\n",
       "  'RetryAttempts': 0},\n",
       " 'IsTruncated': False,\n",
       " 'Marker': '',\n",
       " 'Contents': [{'Key': 'ceph-nano.ipynb',\n",
       "   'LastModified': datetime.datetime(2019, 1, 20, 15, 48, 45, 375000, tzinfo=tzlocal()),\n",
       "   'ETag': '\"30a59cf179d16542c2cba68348d00c2d\"',\n",
       "   'Size': 4942,\n",
       "   'StorageClass': 'STANDARD',\n",
       "   'Owner': {'DisplayName': 'Ceph demo user', 'ID': 'nano'}},\n",
       "  {'Key': 'odh-core-test.ipynb',\n",
       "   'LastModified': datetime.datetime(2019, 1, 20, 15, 50, 24, 592000, tzinfo=tzlocal()),\n",
       "   'ETag': '\"a15e8c9d89738186f5205da05eded73c\"',\n",
       "   'Size': 4939,\n",
       "   'StorageClass': 'STANDARD',\n",
       "   'Owner': {'DisplayName': 'Ceph demo user', 'ID': 'nano'}}],\n",
       " 'Name': 'TEST',\n",
       " 'Prefix': '',\n",
       " 'MaxKeys': 1000,\n",
       " 'EncodingType': 'url'}"
      ]
     },
     "execution_count": 11,
     "metadata": {},
     "output_type": "execute_result"
    }
   ],
   "source": [
    "conn.list_objects(Bucket=\"TEST\")"
   ]
  },
  {
   "cell_type": "code",
   "execution_count": null,
   "metadata": {},
   "outputs": [],
   "source": []
  }
 ],
 "metadata": {
  "kernelspec": {
   "display_name": "Python 3",
   "language": "python",
   "name": "python3"
  },
  "language_info": {
   "codemirror_mode": {
    "name": "ipython",
    "version": 3
   },
   "file_extension": ".py",
   "mimetype": "text/x-python",
   "name": "python",
   "nbconvert_exporter": "python",
   "pygments_lexer": "ipython3",
   "version": "3.6.3"
  }
 },
 "nbformat": 4,
 "nbformat_minor": 2
}
